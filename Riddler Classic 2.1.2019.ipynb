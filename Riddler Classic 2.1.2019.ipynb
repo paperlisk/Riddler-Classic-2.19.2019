{
 "cells": [
  {
   "cell_type": "markdown",
   "metadata": {},
   "source": [
    "## 2/1/2019 Riddler Classic\n",
    "\n",
    "You meet someone on a street corner who’s standing at a table on which there are three decks of playing cards. He tells you his name is “Three Deck Monte.” Knowing this will surely end well, you inspect the decks. Each deck contains 12 cards …\n",
    "\n",
    "    Red Deck: four aces, four 9s, four 7s\n",
    "    Blue Deck: four kings, four jacks, four 6s\n",
    "    Black Deck: four queens, four 10s, four 8s\n",
    "\n",
    "The man offers you a bet: You pick one of the decks, he then picks a different one. You both shuffle your decks, and you compete in a short game similar to War. You each turn over cards one at a time, the one with a higher card wins that turn (aces are high), and the first to win five turns wins the bet. (There can’t be ties, as no deck contains any of the same cards as any other deck.)\n",
    "\n",
    "Should you take the bet? After all, you can pick any of the decks, which seems like it should give you an advantage against the dealer. If you take the bet, and the dealer picks the best possible counter deck each time, how often will you win?"
   ]
  },
  {
   "cell_type": "code",
   "execution_count": 2,
   "metadata": {},
   "outputs": [],
   "source": [
    "import numpy as np"
   ]
  },
  {
   "cell_type": "code",
   "execution_count": 48,
   "metadata": {},
   "outputs": [],
   "source": [
    "#make the decks\n",
    "#make a reference list because I'm lazy and used the first way to iterate that I thought of\n",
    "control = np.array([0,1,2,3,4,5,6,7,8,9,10,11])\n",
    "deck1 = np.array([14, 14, 14, 14, 9, 9, 9, 9, 7, 7, 7, 7])\n",
    "deck2 = np.array([13, 13, 13, 13, 11, 11, 11, 11, 6, 6, 6, 6])\n",
    "deck3 = np.array([12, 12, 12, 12, 10, 10, 10, 10, 8, 8, 8, 8])"
   ]
  },
  {
   "cell_type": "code",
   "execution_count": 112,
   "metadata": {},
   "outputs": [
    {
     "data": {
      "text/plain": [
       "0.7008300000000001"
      ]
     },
     "execution_count": 112,
     "metadata": {},
     "output_type": "execute_result"
    }
   ],
   "source": [
    "#grand total list of all win proportions:\n",
    "even_more_total_result = []\n",
    "#list of results across trials:\n",
    "total_result = []\n",
    "#scorekeeper for game turns:\n",
    "result = []\n",
    "b = 10\n",
    "a = 10000\n",
    "while b > 0:\n",
    "    while a > 0:\n",
    "        np.random.shuffle(deck1)\n",
    "        np.random.shuffle(deck2)\n",
    "        np.random.shuffle(deck3)\n",
    "        for i in control:\n",
    "            if deck2[control[i]] > deck3[control[i]]:\n",
    "                result.append(1)\n",
    "            else:\n",
    "                result.append(0)\n",
    "            if result.count(1) == 5:\n",
    "                total_result.append(1)\n",
    "                result = []\n",
    "                break\n",
    "            elif result.count(0) == 5:\n",
    "                total_result.append(0)\n",
    "                result = []\n",
    "                break\n",
    "        a -= 1\n",
    "    even_more_total_result.append(sum(total_result)/10000)\n",
    "    total_result = []\n",
    "    a = 10000\n",
    "    b -= 1\n",
    "sum(even_more_total_result)/float(len(even_more_total_result))"
   ]
  },
  {
   "cell_type": "markdown",
   "metadata": {},
   "source": [
    "I just ran the above for each combination of decks 1 through 3  \n",
    "deck1 beats deck2 70% of the time  \n",
    "deck1 beats deck3 30% of the time  \n",
    "deck2 beats deck3 70% of the time  \n",
    "if you pick deck1 he's gonna pick deck3 and dumpster you 70/30  \n",
    "if you pick deck2 he's gonna pick deck1 and dumpster you 70/30  \n",
    "if you pick deck3 he's gonna pick deck2 and dumpster you 70/30  \n",
    "  \n",
    "\n",
    "# You lose 30/70 no matter what deck you pick."
   ]
  },
  {
   "cell_type": "code",
   "execution_count": null,
   "metadata": {},
   "outputs": [],
   "source": []
  }
 ],
 "metadata": {
  "kernelspec": {
   "display_name": "Python 3",
   "language": "python",
   "name": "python3"
  },
  "language_info": {
   "codemirror_mode": {
    "name": "ipython",
    "version": 3
   },
   "file_extension": ".py",
   "mimetype": "text/x-python",
   "name": "python",
   "nbconvert_exporter": "python",
   "pygments_lexer": "ipython3",
   "version": "3.7.1"
  }
 },
 "nbformat": 4,
 "nbformat_minor": 2
}
